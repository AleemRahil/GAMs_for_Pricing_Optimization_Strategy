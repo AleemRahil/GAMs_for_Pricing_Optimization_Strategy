{
  "nbformat": 4,
  "nbformat_minor": 0,
  "metadata": {
    "colab": {
      "provenance": [],
      "authorship_tag": "ABX9TyPiFrUDPqOYWUcVTkf/zen1",
      "include_colab_link": true
    },
    "kernelspec": {
      "name": "python3",
      "display_name": "Python 3"
    },
    "language_info": {
      "name": "python"
    }
  },
  "cells": [
    {
      "cell_type": "markdown",
      "metadata": {
        "id": "view-in-github",
        "colab_type": "text"
      },
      "source": [
        "<a href=\"https://colab.research.google.com/github/AleemRahil/GAMs_for_Pricing_Optimization_Strategy/blob/main/GAMs_for_Pricing_Optimization_Strategy.ipynb\" target=\"_parent\"><img src=\"https://colab.research.google.com/assets/colab-badge.svg\" alt=\"Open In Colab\"/></a>"
      ]
    },
    {
      "cell_type": "markdown",
      "source": [
        "# PYTHON GAM PRICE OPTIMIZATION"
      ],
      "metadata": {
        "id": "EYL0hWMSEYKK"
      }
    },
    {
      "cell_type": "markdown",
      "source": [
        "## PART 1: EXPECTILE GAM PRIMER\n",
        "\n",
        "### Showcases the use of Expectile GAM (Primer for Price Optimization)"
      ],
      "metadata": {
        "id": "_khOCQOPEhgS"
      }
    },
    {
      "cell_type": "code",
      "source": [
        "pip install pygam"
      ],
      "metadata": {
        "colab": {
          "base_uri": "https://localhost:8080/"
        },
        "id": "tL2cIrbbFL2h",
        "outputId": "25eb86cb-6a9f-414a-cc4b-de07e2e89754"
      },
      "execution_count": 2,
      "outputs": [
        {
          "output_type": "stream",
          "name": "stdout",
          "text": [
            "Collecting pygam\n",
            "  Downloading pygam-0.9.1-py3-none-any.whl (522 kB)\n",
            "\u001b[?25l     \u001b[90m━━━━━━━━━━━━━━━━━━━━━━━━━━━━━━━━━━━━━━━━\u001b[0m \u001b[32m0.0/522.0 kB\u001b[0m \u001b[31m?\u001b[0m eta \u001b[36m-:--:--\u001b[0m\r\u001b[2K     \u001b[91m━━━━\u001b[0m\u001b[91m╸\u001b[0m\u001b[90m━━━━━━━━━━━━━━━━━━━━━━━━━━━━━━━━━━━\u001b[0m \u001b[32m61.4/522.0 kB\u001b[0m \u001b[31m1.7 MB/s\u001b[0m eta \u001b[36m0:00:01\u001b[0m\r\u001b[2K     \u001b[91m━━━━━━━━━━━━━━━━━━━━━━━━━━━━━━━━━\u001b[0m\u001b[91m╸\u001b[0m\u001b[90m━━━━━━\u001b[0m \u001b[32m440.3/522.0 kB\u001b[0m \u001b[31m6.1 MB/s\u001b[0m eta \u001b[36m0:00:01\u001b[0m\r\u001b[2K     \u001b[90m━━━━━━━━━━━━━━━━━━━━━━━━━━━━━━━━━━━━━━━━\u001b[0m \u001b[32m522.0/522.0 kB\u001b[0m \u001b[31m5.6 MB/s\u001b[0m eta \u001b[36m0:00:00\u001b[0m\n",
            "\u001b[?25hRequirement already satisfied: numpy>=1.25 in /usr/local/lib/python3.10/dist-packages (from pygam) (1.25.2)\n",
            "Requirement already satisfied: progressbar2<5.0.0,>=4.2.0 in /usr/local/lib/python3.10/dist-packages (from pygam) (4.2.0)\n",
            "Requirement already satisfied: scipy<1.12,>=1.11.1 in /usr/local/lib/python3.10/dist-packages (from pygam) (1.11.4)\n",
            "Requirement already satisfied: python-utils>=3.0.0 in /usr/local/lib/python3.10/dist-packages (from progressbar2<5.0.0,>=4.2.0->pygam) (3.8.2)\n",
            "Requirement already satisfied: typing-extensions>3.10.0.2 in /usr/local/lib/python3.10/dist-packages (from python-utils>=3.0.0->progressbar2<5.0.0,>=4.2.0->pygam) (4.9.0)\n",
            "Installing collected packages: pygam\n",
            "Successfully installed pygam-0.9.1\n"
          ]
        }
      ]
    },
    {
      "cell_type": "code",
      "execution_count": 97,
      "metadata": {
        "id": "rrv0wSy8D8uz"
      },
      "outputs": [],
      "source": [
        "# prompt: import numpy, pandas, plt pygam\n",
        "\n",
        "import numpy as np\n",
        "import pandas as pd\n",
        "import matplotlib.pyplot as plt\n",
        "from pygam import s, ExpectileGAM\n",
        "\n"
      ]
    },
    {
      "cell_type": "code",
      "source": [
        "# Data Generation\n",
        "np.random.seed(0)\n",
        "n = 100\n",
        "price = np.sort(np.random.exponential(scale=100, size =n))\n",
        "quantity = 1000 - 5*price + np.random.normal(loc=0, scale=50, size=n)\n",
        "quantity = quantity.clip(min=0)"
      ],
      "metadata": {
        "id": "YjAiIPWPFHaL"
      },
      "execution_count": 98,
      "outputs": []
    },
    {
      "cell_type": "code",
      "source": [
        "# Add Outliers\n",
        "n_outliers = 10\n",
        "outlier_prices = np.random.uniform(5, 50, n_outliers)\n",
        "outlier_quantity = 1100 + np.random.normal(loc=0, scale=50, size=n_outliers)\n",
        "price = np.concatenate([price, outlier_prices])\n",
        "quantity = np.concatenate([quantity, outlier_quantity])"
      ],
      "metadata": {
        "id": "jcDJKAfMFwwc"
      },
      "execution_count": 99,
      "outputs": []
    },
    {
      "cell_type": "code",
      "source": [
        "# Add Outliers\n",
        "n_outliers = 10\n",
        "outlier_prices = np.random.uniform(51, 100, n_outliers)\n",
        "outlier_quantity = 900 + np.random.normal(loc=0, scale=50, size=n_outliers)\n",
        "price = np.concatenate([price, outlier_prices])\n",
        "quantity = np.concatenate([quantity, outlier_quantity])"
      ],
      "metadata": {
        "id": "B47lEtm_GS4g"
      },
      "execution_count": 100,
      "outputs": []
    },
    {
      "cell_type": "code",
      "source": [
        "df = pd.DataFrame({\n",
        "    'Price': price,\n",
        "    'Quantity': quantity\n",
        "})\n"
      ],
      "metadata": {
        "id": "bPbfaVa7Gl78"
      },
      "execution_count": 101,
      "outputs": []
    },
    {
      "cell_type": "code",
      "source": [
        "# Filer out prices less than 5\n",
        "df = df[df['Price'] >= 5]"
      ],
      "metadata": {
        "id": "BW43A7wmIo15"
      },
      "execution_count": 102,
      "outputs": []
    },
    {
      "cell_type": "code",
      "source": [
        "df"
      ],
      "metadata": {
        "colab": {
          "base_uri": "https://localhost:8080/",
          "height": 424
        },
        "id": "fTa3u_ilJCua",
        "outputId": "56c839c2-f1ab-4ae9-e586-92a1da51f67a"
      },
      "execution_count": 103,
      "outputs": [
        {
          "output_type": "execute_result",
          "data": {
            "text/plain": [
              "         Price     Quantity\n",
              "5     6.211530  1063.736811\n",
              "6     6.629740  1025.790280\n",
              "7     7.368535   954.161081\n",
              "8     9.116103   900.881854\n",
              "9     9.865031  1003.397430\n",
              "..         ...          ...\n",
              "115  65.315229   863.098455\n",
              "116  62.800610   913.996230\n",
              "117  55.914403   895.092481\n",
              "118  51.805052   945.508945\n",
              "119  96.546937   915.860911\n",
              "\n",
              "[115 rows x 2 columns]"
            ],
            "text/html": [
              "\n",
              "  <div id=\"df-532c3b44-2c9e-4916-864b-77c2471f52e8\" class=\"colab-df-container\">\n",
              "    <div>\n",
              "<style scoped>\n",
              "    .dataframe tbody tr th:only-of-type {\n",
              "        vertical-align: middle;\n",
              "    }\n",
              "\n",
              "    .dataframe tbody tr th {\n",
              "        vertical-align: top;\n",
              "    }\n",
              "\n",
              "    .dataframe thead th {\n",
              "        text-align: right;\n",
              "    }\n",
              "</style>\n",
              "<table border=\"1\" class=\"dataframe\">\n",
              "  <thead>\n",
              "    <tr style=\"text-align: right;\">\n",
              "      <th></th>\n",
              "      <th>Price</th>\n",
              "      <th>Quantity</th>\n",
              "    </tr>\n",
              "  </thead>\n",
              "  <tbody>\n",
              "    <tr>\n",
              "      <th>5</th>\n",
              "      <td>6.211530</td>\n",
              "      <td>1063.736811</td>\n",
              "    </tr>\n",
              "    <tr>\n",
              "      <th>6</th>\n",
              "      <td>6.629740</td>\n",
              "      <td>1025.790280</td>\n",
              "    </tr>\n",
              "    <tr>\n",
              "      <th>7</th>\n",
              "      <td>7.368535</td>\n",
              "      <td>954.161081</td>\n",
              "    </tr>\n",
              "    <tr>\n",
              "      <th>8</th>\n",
              "      <td>9.116103</td>\n",
              "      <td>900.881854</td>\n",
              "    </tr>\n",
              "    <tr>\n",
              "      <th>9</th>\n",
              "      <td>9.865031</td>\n",
              "      <td>1003.397430</td>\n",
              "    </tr>\n",
              "    <tr>\n",
              "      <th>...</th>\n",
              "      <td>...</td>\n",
              "      <td>...</td>\n",
              "    </tr>\n",
              "    <tr>\n",
              "      <th>115</th>\n",
              "      <td>65.315229</td>\n",
              "      <td>863.098455</td>\n",
              "    </tr>\n",
              "    <tr>\n",
              "      <th>116</th>\n",
              "      <td>62.800610</td>\n",
              "      <td>913.996230</td>\n",
              "    </tr>\n",
              "    <tr>\n",
              "      <th>117</th>\n",
              "      <td>55.914403</td>\n",
              "      <td>895.092481</td>\n",
              "    </tr>\n",
              "    <tr>\n",
              "      <th>118</th>\n",
              "      <td>51.805052</td>\n",
              "      <td>945.508945</td>\n",
              "    </tr>\n",
              "    <tr>\n",
              "      <th>119</th>\n",
              "      <td>96.546937</td>\n",
              "      <td>915.860911</td>\n",
              "    </tr>\n",
              "  </tbody>\n",
              "</table>\n",
              "<p>115 rows × 2 columns</p>\n",
              "</div>\n",
              "    <div class=\"colab-df-buttons\">\n",
              "\n",
              "  <div class=\"colab-df-container\">\n",
              "    <button class=\"colab-df-convert\" onclick=\"convertToInteractive('df-532c3b44-2c9e-4916-864b-77c2471f52e8')\"\n",
              "            title=\"Convert this dataframe to an interactive table.\"\n",
              "            style=\"display:none;\">\n",
              "\n",
              "  <svg xmlns=\"http://www.w3.org/2000/svg\" height=\"24px\" viewBox=\"0 -960 960 960\">\n",
              "    <path d=\"M120-120v-720h720v720H120Zm60-500h600v-160H180v160Zm220 220h160v-160H400v160Zm0 220h160v-160H400v160ZM180-400h160v-160H180v160Zm440 0h160v-160H620v160ZM180-180h160v-160H180v160Zm440 0h160v-160H620v160Z\"/>\n",
              "  </svg>\n",
              "    </button>\n",
              "\n",
              "  <style>\n",
              "    .colab-df-container {\n",
              "      display:flex;\n",
              "      gap: 12px;\n",
              "    }\n",
              "\n",
              "    .colab-df-convert {\n",
              "      background-color: #E8F0FE;\n",
              "      border: none;\n",
              "      border-radius: 50%;\n",
              "      cursor: pointer;\n",
              "      display: none;\n",
              "      fill: #1967D2;\n",
              "      height: 32px;\n",
              "      padding: 0 0 0 0;\n",
              "      width: 32px;\n",
              "    }\n",
              "\n",
              "    .colab-df-convert:hover {\n",
              "      background-color: #E2EBFA;\n",
              "      box-shadow: 0px 1px 2px rgba(60, 64, 67, 0.3), 0px 1px 3px 1px rgba(60, 64, 67, 0.15);\n",
              "      fill: #174EA6;\n",
              "    }\n",
              "\n",
              "    .colab-df-buttons div {\n",
              "      margin-bottom: 4px;\n",
              "    }\n",
              "\n",
              "    [theme=dark] .colab-df-convert {\n",
              "      background-color: #3B4455;\n",
              "      fill: #D2E3FC;\n",
              "    }\n",
              "\n",
              "    [theme=dark] .colab-df-convert:hover {\n",
              "      background-color: #434B5C;\n",
              "      box-shadow: 0px 1px 3px 1px rgba(0, 0, 0, 0.15);\n",
              "      filter: drop-shadow(0px 1px 2px rgba(0, 0, 0, 0.3));\n",
              "      fill: #FFFFFF;\n",
              "    }\n",
              "  </style>\n",
              "\n",
              "    <script>\n",
              "      const buttonEl =\n",
              "        document.querySelector('#df-532c3b44-2c9e-4916-864b-77c2471f52e8 button.colab-df-convert');\n",
              "      buttonEl.style.display =\n",
              "        google.colab.kernel.accessAllowed ? 'block' : 'none';\n",
              "\n",
              "      async function convertToInteractive(key) {\n",
              "        const element = document.querySelector('#df-532c3b44-2c9e-4916-864b-77c2471f52e8');\n",
              "        const dataTable =\n",
              "          await google.colab.kernel.invokeFunction('convertToInteractive',\n",
              "                                                    [key], {});\n",
              "        if (!dataTable) return;\n",
              "\n",
              "        const docLinkHtml = 'Like what you see? Visit the ' +\n",
              "          '<a target=\"_blank\" href=https://colab.research.google.com/notebooks/data_table.ipynb>data table notebook</a>'\n",
              "          + ' to learn more about interactive tables.';\n",
              "        element.innerHTML = '';\n",
              "        dataTable['output_type'] = 'display_data';\n",
              "        await google.colab.output.renderOutput(dataTable, element);\n",
              "        const docLink = document.createElement('div');\n",
              "        docLink.innerHTML = docLinkHtml;\n",
              "        element.appendChild(docLink);\n",
              "      }\n",
              "    </script>\n",
              "  </div>\n",
              "\n",
              "\n",
              "<div id=\"df-58dfa26e-7a7a-488d-be2d-7816d6172eae\">\n",
              "  <button class=\"colab-df-quickchart\" onclick=\"quickchart('df-58dfa26e-7a7a-488d-be2d-7816d6172eae')\"\n",
              "            title=\"Suggest charts\"\n",
              "            style=\"display:none;\">\n",
              "\n",
              "<svg xmlns=\"http://www.w3.org/2000/svg\" height=\"24px\"viewBox=\"0 0 24 24\"\n",
              "     width=\"24px\">\n",
              "    <g>\n",
              "        <path d=\"M19 3H5c-1.1 0-2 .9-2 2v14c0 1.1.9 2 2 2h14c1.1 0 2-.9 2-2V5c0-1.1-.9-2-2-2zM9 17H7v-7h2v7zm4 0h-2V7h2v10zm4 0h-2v-4h2v4z\"/>\n",
              "    </g>\n",
              "</svg>\n",
              "  </button>\n",
              "\n",
              "<style>\n",
              "  .colab-df-quickchart {\n",
              "      --bg-color: #E8F0FE;\n",
              "      --fill-color: #1967D2;\n",
              "      --hover-bg-color: #E2EBFA;\n",
              "      --hover-fill-color: #174EA6;\n",
              "      --disabled-fill-color: #AAA;\n",
              "      --disabled-bg-color: #DDD;\n",
              "  }\n",
              "\n",
              "  [theme=dark] .colab-df-quickchart {\n",
              "      --bg-color: #3B4455;\n",
              "      --fill-color: #D2E3FC;\n",
              "      --hover-bg-color: #434B5C;\n",
              "      --hover-fill-color: #FFFFFF;\n",
              "      --disabled-bg-color: #3B4455;\n",
              "      --disabled-fill-color: #666;\n",
              "  }\n",
              "\n",
              "  .colab-df-quickchart {\n",
              "    background-color: var(--bg-color);\n",
              "    border: none;\n",
              "    border-radius: 50%;\n",
              "    cursor: pointer;\n",
              "    display: none;\n",
              "    fill: var(--fill-color);\n",
              "    height: 32px;\n",
              "    padding: 0;\n",
              "    width: 32px;\n",
              "  }\n",
              "\n",
              "  .colab-df-quickchart:hover {\n",
              "    background-color: var(--hover-bg-color);\n",
              "    box-shadow: 0 1px 2px rgba(60, 64, 67, 0.3), 0 1px 3px 1px rgba(60, 64, 67, 0.15);\n",
              "    fill: var(--button-hover-fill-color);\n",
              "  }\n",
              "\n",
              "  .colab-df-quickchart-complete:disabled,\n",
              "  .colab-df-quickchart-complete:disabled:hover {\n",
              "    background-color: var(--disabled-bg-color);\n",
              "    fill: var(--disabled-fill-color);\n",
              "    box-shadow: none;\n",
              "  }\n",
              "\n",
              "  .colab-df-spinner {\n",
              "    border: 2px solid var(--fill-color);\n",
              "    border-color: transparent;\n",
              "    border-bottom-color: var(--fill-color);\n",
              "    animation:\n",
              "      spin 1s steps(1) infinite;\n",
              "  }\n",
              "\n",
              "  @keyframes spin {\n",
              "    0% {\n",
              "      border-color: transparent;\n",
              "      border-bottom-color: var(--fill-color);\n",
              "      border-left-color: var(--fill-color);\n",
              "    }\n",
              "    20% {\n",
              "      border-color: transparent;\n",
              "      border-left-color: var(--fill-color);\n",
              "      border-top-color: var(--fill-color);\n",
              "    }\n",
              "    30% {\n",
              "      border-color: transparent;\n",
              "      border-left-color: var(--fill-color);\n",
              "      border-top-color: var(--fill-color);\n",
              "      border-right-color: var(--fill-color);\n",
              "    }\n",
              "    40% {\n",
              "      border-color: transparent;\n",
              "      border-right-color: var(--fill-color);\n",
              "      border-top-color: var(--fill-color);\n",
              "    }\n",
              "    60% {\n",
              "      border-color: transparent;\n",
              "      border-right-color: var(--fill-color);\n",
              "    }\n",
              "    80% {\n",
              "      border-color: transparent;\n",
              "      border-right-color: var(--fill-color);\n",
              "      border-bottom-color: var(--fill-color);\n",
              "    }\n",
              "    90% {\n",
              "      border-color: transparent;\n",
              "      border-bottom-color: var(--fill-color);\n",
              "    }\n",
              "  }\n",
              "</style>\n",
              "\n",
              "  <script>\n",
              "    async function quickchart(key) {\n",
              "      const quickchartButtonEl =\n",
              "        document.querySelector('#' + key + ' button');\n",
              "      quickchartButtonEl.disabled = true;  // To prevent multiple clicks.\n",
              "      quickchartButtonEl.classList.add('colab-df-spinner');\n",
              "      try {\n",
              "        const charts = await google.colab.kernel.invokeFunction(\n",
              "            'suggestCharts', [key], {});\n",
              "      } catch (error) {\n",
              "        console.error('Error during call to suggestCharts:', error);\n",
              "      }\n",
              "      quickchartButtonEl.classList.remove('colab-df-spinner');\n",
              "      quickchartButtonEl.classList.add('colab-df-quickchart-complete');\n",
              "    }\n",
              "    (() => {\n",
              "      let quickchartButtonEl =\n",
              "        document.querySelector('#df-58dfa26e-7a7a-488d-be2d-7816d6172eae button');\n",
              "      quickchartButtonEl.style.display =\n",
              "        google.colab.kernel.accessAllowed ? 'block' : 'none';\n",
              "    })();\n",
              "  </script>\n",
              "</div>\n",
              "\n",
              "  <div id=\"id_3dfefe54-a660-45b9-af17-8b80e28a8b25\">\n",
              "    <style>\n",
              "      .colab-df-generate {\n",
              "        background-color: #E8F0FE;\n",
              "        border: none;\n",
              "        border-radius: 50%;\n",
              "        cursor: pointer;\n",
              "        display: none;\n",
              "        fill: #1967D2;\n",
              "        height: 32px;\n",
              "        padding: 0 0 0 0;\n",
              "        width: 32px;\n",
              "      }\n",
              "\n",
              "      .colab-df-generate:hover {\n",
              "        background-color: #E2EBFA;\n",
              "        box-shadow: 0px 1px 2px rgba(60, 64, 67, 0.3), 0px 1px 3px 1px rgba(60, 64, 67, 0.15);\n",
              "        fill: #174EA6;\n",
              "      }\n",
              "\n",
              "      [theme=dark] .colab-df-generate {\n",
              "        background-color: #3B4455;\n",
              "        fill: #D2E3FC;\n",
              "      }\n",
              "\n",
              "      [theme=dark] .colab-df-generate:hover {\n",
              "        background-color: #434B5C;\n",
              "        box-shadow: 0px 1px 3px 1px rgba(0, 0, 0, 0.15);\n",
              "        filter: drop-shadow(0px 1px 2px rgba(0, 0, 0, 0.3));\n",
              "        fill: #FFFFFF;\n",
              "      }\n",
              "    </style>\n",
              "    <button class=\"colab-df-generate\" onclick=\"generateWithVariable('df')\"\n",
              "            title=\"Generate code using this dataframe.\"\n",
              "            style=\"display:none;\">\n",
              "\n",
              "  <svg xmlns=\"http://www.w3.org/2000/svg\" height=\"24px\"viewBox=\"0 0 24 24\"\n",
              "       width=\"24px\">\n",
              "    <path d=\"M7,19H8.4L18.45,9,17,7.55,7,17.6ZM5,21V16.75L18.45,3.32a2,2,0,0,1,2.83,0l1.4,1.43a1.91,1.91,0,0,1,.58,1.4,1.91,1.91,0,0,1-.58,1.4L9.25,21ZM18.45,9,17,7.55Zm-12,3A5.31,5.31,0,0,0,4.9,8.1,5.31,5.31,0,0,0,1,6.5,5.31,5.31,0,0,0,4.9,4.9,5.31,5.31,0,0,0,6.5,1,5.31,5.31,0,0,0,8.1,4.9,5.31,5.31,0,0,0,12,6.5,5.46,5.46,0,0,0,6.5,12Z\"/>\n",
              "  </svg>\n",
              "    </button>\n",
              "    <script>\n",
              "      (() => {\n",
              "      const buttonEl =\n",
              "        document.querySelector('#id_3dfefe54-a660-45b9-af17-8b80e28a8b25 button.colab-df-generate');\n",
              "      buttonEl.style.display =\n",
              "        google.colab.kernel.accessAllowed ? 'block' : 'none';\n",
              "\n",
              "      buttonEl.onclick = () => {\n",
              "        google.colab.notebook.generateWithVariable('df');\n",
              "      }\n",
              "      })();\n",
              "    </script>\n",
              "  </div>\n",
              "\n",
              "    </div>\n",
              "  </div>\n"
            ],
            "application/vnd.google.colaboratory.intrinsic+json": {
              "type": "dataframe",
              "variable_name": "df",
              "summary": "{\n  \"name\": \"df\",\n  \"rows\": 115,\n  \"fields\": [\n    {\n      \"column\": \"Price\",\n      \"properties\": {\n        \"dtype\": \"number\",\n        \"std\": 88.55602306247366,\n        \"min\": 6.21152959253157,\n        \"max\": 445.44973806090525,\n        \"num_unique_values\": 115,\n        \"samples\": [\n          176.5741077631358,\n          9.86503136802505,\n          57.55191991686398\n        ],\n        \"semantic_type\": \"\",\n        \"description\": \"\"\n      }\n    },\n    {\n      \"column\": \"Quantity\",\n      \"properties\": {\n        \"dtype\": \"number\",\n        \"std\": 338.46870086735305,\n        \"min\": 0.0,\n        \"max\": 1177.1507297703367,\n        \"num_unique_values\": 105,\n        \"samples\": [\n          848.7723408910092,\n          462.55182483419696,\n          447.54940730605676\n        ],\n        \"semantic_type\": \"\",\n        \"description\": \"\"\n      }\n    }\n  ]\n}"
            }
          },
          "metadata": {},
          "execution_count": 103
        }
      ]
    },
    {
      "source": [
        "# @title Price and Quantity Spread vs Mean\n",
        "\n",
        "import matplotlib.pyplot as plt\n",
        "_ = plt.scatter(df['Quantity'], df['Price'], c=df['Price'] - df['Quantity'])"
      ],
      "cell_type": "code",
      "execution_count": 104,
      "outputs": [
        {
          "output_type": "display_data",
          "data": {
            "text/plain": [
              "<Figure size 640x480 with 1 Axes>"
            ],
            "image/png": "[encoded data removed]"
          },
          "metadata": {}
        }
      ],
      "metadata": {
        "colab": {
          "base_uri": "https://localhost:8080/",
          "height": 430
        },
        "id": "qF8ousLcJyd-",
        "outputId": "d7811ccf-1de4-4c51-8930-eb3edb2b8891"
      }
    },
    {
      "source": [
        "# @title Quantity\n",
        "\n",
        "from matplotlib import pyplot as plt\n",
        "df['Quantity'].plot(kind='line', figsize=(8, 4), title='Quantity')\n",
        "plt.gca().spines[['top', 'right']].set_visible(False)"
      ],
      "cell_type": "code",
      "execution_count": 105,
      "outputs": [
        {
          "output_type": "display_data",
          "data": {
            "text/plain": [
              "<Figure size 800x400 with 1 Axes>"
            ],
            "image/png": "[encoded data removed]"
          },
          "metadata": {}
        }
      ],
      "metadata": {
        "colab": {
          "base_uri": "https://localhost:8080/",
          "height": 391
        },
        "id": "sbRWVNGcJsz8",
        "outputId": "8d7d78f5-0eb5-4254-bd75-cb6bf3a8321e"
      }
    },
    {
      "source": [
        "# @title Price\n",
        "\n",
        "from matplotlib import pyplot as plt\n",
        "df['Price'].plot(kind='line', figsize=(8, 4), title='Price')\n",
        "plt.gca().spines[['top', 'right']].set_visible(False)"
      ],
      "cell_type": "code",
      "execution_count": 106,
      "outputs": [
        {
          "output_type": "display_data",
          "data": {
            "text/plain": [
              "<Figure size 800x400 with 1 Axes>"
            ],
            "image/png": "[encoded data removed]"
          },
          "metadata": {}
        }
      ],
      "metadata": {
        "colab": {
          "base_uri": "https://localhost:8080/",
          "height": 391
        },
        "id": "p0N5tDcUJot2",
        "outputId": "f8b9d60c-3413-4844-9648-92dab3c7c540"
      }
    },
    {
      "source": [
        "# @title Distribution of Price vs Quantity\n",
        "\n",
        "df.plot.hist(column=['Price', 'Quantity'], alpha=0.5)"
      ],
      "cell_type": "code",
      "execution_count": 107,
      "outputs": [
        {
          "output_type": "execute_result",
          "data": {
            "text/plain": [
              "<Axes: ylabel='Frequency'>"
            ]
          },
          "metadata": {},
          "execution_count": 107
        },
        {
          "output_type": "display_data",
          "data": {
            "text/plain": [
              "<Figure size 640x480 with 1 Axes>"
            ],
            "image/png": "[encoded data removed]"
          },
          "metadata": {}
        }
      ],
      "metadata": {
        "colab": {
          "base_uri": "https://localhost:8080/",
          "height": 447
        },
        "id": "Ay_HEXOsJkw5",
        "outputId": "24d08b20-cd9f-4bd3-9195-3160cf6d50e1"
      }
    },
    {
      "source": [
        "# @title Price vs Quantity\n",
        "\n",
        "from matplotlib import pyplot as plt\n",
        "df.plot(kind='scatter', x='Price', y='Quantity', s=32, alpha=.8)\n",
        "plt.gca().spines[['top', 'right',]].set_visible(False)"
      ],
      "cell_type": "code",
      "execution_count": 108,
      "outputs": [
        {
          "output_type": "display_data",
          "data": {
            "text/plain": [
              "<Figure size 640x480 with 1 Axes>"
            ],
            "image/png": "[encoded data removed]"
          },
          "metadata": {}
        }
      ],
      "metadata": {
        "colab": {
          "base_uri": "https://localhost:8080/",
          "height": 449
        },
        "id": "Q4RloBEzJgHO",
        "outputId": "b16d0491-f3e8-4f05-9f5b-2f4c7fbeab1f"
      }
    },
    {
      "source": [
        "# @title Quantity\n",
        "\n",
        "from matplotlib import pyplot as plt\n",
        "df['Quantity'].plot(kind='hist', bins=20, title='Quantity')\n",
        "plt.gca().spines[['top', 'right',]].set_visible(False)"
      ],
      "cell_type": "code",
      "execution_count": 109,
      "outputs": [
        {
          "output_type": "display_data",
          "data": {
            "text/plain": [
              "<Figure size 640x480 with 1 Axes>"
            ],
            "image/png": "[encoded data removed]"
          },
          "metadata": {}
        }
      ],
      "metadata": {
        "colab": {
          "base_uri": "https://localhost:8080/",
          "height": 452
        },
        "id": "gGzRCHCzJWny",
        "outputId": "7f9e1d9a-c3ec-4306-cb86-98bc6ff7a108"
      }
    },
    {
      "source": [
        "# @title Price\n",
        "\n",
        "from matplotlib import pyplot as plt\n",
        "df['Price'].plot(kind='hist', bins=20, title='Price')\n",
        "plt.gca().spines[['top', 'right',]].set_visible(False)"
      ],
      "cell_type": "code",
      "execution_count": 110,
      "outputs": [
        {
          "output_type": "display_data",
          "data": {
            "text/plain": [
              "<Figure size 640x480 with 1 Axes>"
            ],
            "image/png": "[encoded data removed]"
          },
          "metadata": {}
        }
      ],
      "metadata": {
        "colab": {
          "base_uri": "https://localhost:8080/",
          "height": 452
        },
        "id": "IX8luBBQJPaa",
        "outputId": "8fd15741-11e7-4dd9-c07f-f8ec4184a50f"
      }
    },
    {
      "cell_type": "markdown",
      "source": [
        "# Modeling"
      ],
      "metadata": {
        "id": "2vVEZoetJ6nb"
      }
    },
    {
      "cell_type": "code",
      "source": [
        "# Reshape Data\n",
        "X = df[['Price']]\n",
        "y = df['Quantity']\n",
        "\n",
        "# Quantile GAMs\n",
        "quantiles = [0.025, 0.5, 0.975]\n",
        "gam_results = {}\n",
        "\n",
        "for q in quantiles:\n",
        "  gam = ExpectileGAM(s(0), expectile=q)\n",
        "  gam. fit(X,y)\n",
        "  gam_results[q] = gam"
      ],
      "metadata": {
        "id": "h0NLFTGBJEDd"
      },
      "execution_count": 111,
      "outputs": []
    },
    {
      "cell_type": "code",
      "source": [
        "gam_results"
      ],
      "metadata": {
        "colab": {
          "base_uri": "https://localhost:8080/"
        },
        "id": "ySMKo103KgLn",
        "outputId": "9cc42453-f00a-4290-daf9-2d751adc1a93"
      },
      "execution_count": 112,
      "outputs": [
        {
          "output_type": "execute_result",
          "data": {
            "text/plain": [
              "{0.025: ExpectileGAM(callbacks=[Deviance(), Diffs()], expectile=0.025, \n",
              "    fit_intercept=True, max_iter=100, scale=None, \n",
              "    terms=s(0) + intercept, tol=0.0001, verbose=False),\n",
              " 0.5: ExpectileGAM(callbacks=[Deviance(), Diffs()], expectile=0.5, \n",
              "    fit_intercept=True, max_iter=100, scale=None, \n",
              "    terms=s(0) + intercept, tol=0.0001, verbose=False),\n",
              " 0.975: ExpectileGAM(callbacks=[Deviance(), Diffs()], expectile=0.975, \n",
              "    fit_intercept=True, max_iter=100, scale=None, \n",
              "    terms=s(0) + intercept, tol=0.0001, verbose=False)}"
            ]
          },
          "metadata": {},
          "execution_count": 112
        }
      ]
    },
    {
      "cell_type": "markdown",
      "source": [
        "# Visualization"
      ],
      "metadata": {
        "id": "dVIzxm7jK-3R"
      }
    },
    {
      "cell_type": "code",
      "source": [
        "# Scatter Plot\n",
        "plt.figure(figsize=(10,6))\n",
        "plt.scatter(df['Price'], df['Quantity'], alpha=0.5, label='Data Points')\n",
        "\n",
        "# Plot Quantile GAMs\n",
        "XX = np.linspace(df['Price'].min(), df['Price'].max(), 1000).reshape(-1,1)\n",
        "for q, gam in gam_results.items():\n",
        "  plt.plot(XX, gam.predict(XX), label=f'{int(q*100)}th Quantile GAM')\n",
        "\n",
        "# Add titles and labels\n",
        "plt.xlabel('Price')\n",
        "plt.ylabel('Quantity Demanded')\n",
        "plt.title('Quantile GAMs on Price Elasticity of Demand (Outliers Removed)')\n",
        "plt.legend()\n",
        "plt.grid(True, which='both', linestyle='--', linewidth=0.5)\n",
        "plt.tight_layout()\n",
        "plt.show()"
      ],
      "metadata": {
        "colab": {
          "base_uri": "https://localhost:8080/",
          "height": 607
        },
        "id": "1xHl55SmLX5y",
        "outputId": "6d02f85d-5d1a-439f-a027-71193ff4685c"
      },
      "execution_count": 113,
      "outputs": [
        {
          "output_type": "display_data",
          "data": {
            "text/plain": [
              "<Figure size 1000x600 with 1 Axes>"
            ],
            "image/png": "[encoded data removed]"
          },
          "metadata": {}
        }
      ]
    },
    {
      "cell_type": "markdown",
      "source": [
        "# Price Optimization\n",
        "## PART 2: EXPECTILE GAM PRICE OPTIMIZATION"
      ],
      "metadata": {
        "id": "x746jvzwqeiN"
      }
    },
    {
      "cell_type": "code",
      "source": [
        "pip install pytimetk"
      ],
      "metadata": {
        "colab": {
          "base_uri": "https://localhost:8080/"
        },
        "id": "OtVZdT0ssH2B",
        "outputId": "0bd7cb6c-e202-46f8-c46b-21282baa8b53"
      },
      "execution_count": 1,
      "outputs": [
        {
          "output_type": "stream",
          "name": "stdout",
          "text": [
            "Requirement already satisfied: pytimetk in /usr/local/lib/python3.10/dist-packages (0.3.0)\n",
            "Requirement already satisfied: adjusttext<0.9,>=0.8 in /usr/local/lib/python3.10/dist-packages (from pytimetk) (0.8)\n",
            "Requirement already satisfied: holidays<0.34,>=0.33 in /usr/local/lib/python3.10/dist-packages (from pytimetk) (0.33)\n",
            "Requirement already satisfied: matplotlib<4.0.0,>=3.8.0 in /usr/local/lib/python3.10/dist-packages (from pytimetk) (3.8.3)\n",
            "Requirement already satisfied: pandas>=1.5.0 in /usr/local/lib/python3.10/dist-packages (from pytimetk) (1.5.3)\n",
            "Requirement already satisfied: pandas-flavor<0.7.0,>=0.6.0 in /usr/local/lib/python3.10/dist-packages (from pytimetk) (0.6.0)\n",
            "Requirement already satisfied: pathos<0.4.0,>=0.3.1 in /usr/local/lib/python3.10/dist-packages (from pytimetk) (0.3.2)\n",
            "Requirement already satisfied: plotly<6.0.0,>=5.17.0 in /usr/local/lib/python3.10/dist-packages (from pytimetk) (5.19.0)\n",
            "Requirement already satisfied: plotnine<0.13.0,>=0.12.3 in /usr/local/lib/python3.10/dist-packages (from pytimetk) (0.12.4)\n",
            "Requirement already satisfied: polars>=0.19.8 in /usr/local/lib/python3.10/dist-packages (from pytimetk) (0.20.2)\n",
            "Requirement already satisfied: pyarrow<14.0.0,>=13.0.0 in /usr/local/lib/python3.10/dist-packages (from pytimetk) (13.0.0)\n",
            "Requirement already satisfied: statsmodels<0.15.0,>=0.14.0 in /usr/local/lib/python3.10/dist-packages (from pytimetk) (0.14.1)\n",
            "Requirement already satisfied: tqdm<5.0.0,>=4.66.1 in /usr/local/lib/python3.10/dist-packages (from pytimetk) (4.66.2)\n",
            "Requirement already satisfied: tsfeatures<0.5.0,>=0.4.5 in /usr/local/lib/python3.10/dist-packages (from pytimetk) (0.4.5)\n",
            "Requirement already satisfied: numpy in /usr/local/lib/python3.10/dist-packages (from adjusttext<0.9,>=0.8->pytimetk) (1.25.2)\n",
            "Requirement already satisfied: python-dateutil in /usr/local/lib/python3.10/dist-packages (from holidays<0.34,>=0.33->pytimetk) (2.8.2)\n",
            "Requirement already satisfied: contourpy>=1.0.1 in /usr/local/lib/python3.10/dist-packages (from matplotlib<4.0.0,>=3.8.0->pytimetk) (1.2.0)\n",
            "Requirement already satisfied: cycler>=0.10 in /usr/local/lib/python3.10/dist-packages (from matplotlib<4.0.0,>=3.8.0->pytimetk) (0.12.1)\n",
            "Requirement already satisfied: fonttools>=4.22.0 in /usr/local/lib/python3.10/dist-packages (from matplotlib<4.0.0,>=3.8.0->pytimetk) (4.49.0)\n",
            "Requirement already satisfied: kiwisolver>=1.3.1 in /usr/local/lib/python3.10/dist-packages (from matplotlib<4.0.0,>=3.8.0->pytimetk) (1.4.5)\n",
            "Requirement already satisfied: packaging>=20.0 in /usr/local/lib/python3.10/dist-packages (from matplotlib<4.0.0,>=3.8.0->pytimetk) (23.2)\n",
            "Requirement already satisfied: pillow>=8 in /usr/local/lib/python3.10/dist-packages (from matplotlib<4.0.0,>=3.8.0->pytimetk) (9.4.0)\n",
            "Requirement already satisfied: pyparsing>=2.3.1 in /usr/local/lib/python3.10/dist-packages (from matplotlib<4.0.0,>=3.8.0->pytimetk) (3.1.1)\n",
            "Requirement already satisfied: pytz>=2020.1 in /usr/local/lib/python3.10/dist-packages (from pandas>=1.5.0->pytimetk) (2023.4)\n",
            "Requirement already satisfied: xarray in /usr/local/lib/python3.10/dist-packages (from pandas-flavor<0.7.0,>=0.6.0->pytimetk) (2023.7.0)\n",
            "Requirement already satisfied: ppft>=1.7.6.8 in /usr/local/lib/python3.10/dist-packages (from pathos<0.4.0,>=0.3.1->pytimetk) (1.7.6.8)\n",
            "Requirement already satisfied: dill>=0.3.8 in /usr/local/lib/python3.10/dist-packages (from pathos<0.4.0,>=0.3.1->pytimetk) (0.3.8)\n",
            "Requirement already satisfied: pox>=0.3.4 in /usr/local/lib/python3.10/dist-packages (from pathos<0.4.0,>=0.3.1->pytimetk) (0.3.4)\n",
            "Requirement already satisfied: multiprocess>=0.70.16 in /usr/local/lib/python3.10/dist-packages (from pathos<0.4.0,>=0.3.1->pytimetk) (0.70.16)\n",
            "Requirement already satisfied: tenacity>=6.2.0 in /usr/local/lib/python3.10/dist-packages (from plotly<6.0.0,>=5.17.0->pytimetk) (8.2.3)\n",
            "Requirement already satisfied: mizani<0.10.0,>0.9.0 in /usr/local/lib/python3.10/dist-packages (from plotnine<0.13.0,>=0.12.3->pytimetk) (0.9.3)\n",
            "Requirement already satisfied: patsy>=0.5.1 in /usr/local/lib/python3.10/dist-packages (from plotnine<0.13.0,>=0.12.3->pytimetk) (0.5.6)\n",
            "Requirement already satisfied: scipy>=1.5.0 in /usr/local/lib/python3.10/dist-packages (from plotnine<0.13.0,>=0.12.3->pytimetk) (1.11.4)\n",
            "Requirement already satisfied: antropy>=0.1.4 in /usr/local/lib/python3.10/dist-packages (from tsfeatures<0.5.0,>=0.4.5->pytimetk) (0.1.6)\n",
            "Requirement already satisfied: arch>=4.11 in /usr/local/lib/python3.10/dist-packages (from tsfeatures<0.5.0,>=0.4.5->pytimetk) (6.3.0)\n",
            "Requirement already satisfied: scikit-learn>=0.23.1 in /usr/local/lib/python3.10/dist-packages (from tsfeatures<0.5.0,>=0.4.5->pytimetk) (1.2.2)\n",
            "Requirement already satisfied: supersmoother>=0.4 in /usr/local/lib/python3.10/dist-packages (from tsfeatures<0.5.0,>=0.4.5->pytimetk) (0.4)\n",
            "Requirement already satisfied: numba>=0.57 in /usr/local/lib/python3.10/dist-packages (from antropy>=0.1.4->tsfeatures<0.5.0,>=0.4.5->pytimetk) (0.58.1)\n",
            "Requirement already satisfied: stochastic in /usr/local/lib/python3.10/dist-packages (from antropy>=0.1.4->tsfeatures<0.5.0,>=0.4.5->pytimetk) (0.7.0)\n",
            "Requirement already satisfied: six in /usr/local/lib/python3.10/dist-packages (from patsy>=0.5.1->plotnine<0.13.0,>=0.12.3->pytimetk) (1.16.0)\n",
            "Requirement already satisfied: joblib>=1.1.1 in /usr/local/lib/python3.10/dist-packages (from scikit-learn>=0.23.1->tsfeatures<0.5.0,>=0.4.5->pytimetk) (1.3.2)\n",
            "Requirement already satisfied: threadpoolctl>=2.0.0 in /usr/local/lib/python3.10/dist-packages (from scikit-learn>=0.23.1->tsfeatures<0.5.0,>=0.4.5->pytimetk) (3.3.0)\n",
            "Requirement already satisfied: llvmlite<0.42,>=0.41.0dev0 in /usr/local/lib/python3.10/dist-packages (from numba>=0.57->antropy>=0.1.4->tsfeatures<0.5.0,>=0.4.5->pytimetk) (0.41.1)\n"
          ]
        }
      ]
    },
    {
      "cell_type": "code",
      "source": [
        "# Data Analysis and Modeling\n",
        "import statsmodels.api as sm\n",
        "from pygam import GAM, ExpectileGAM, s, l, f\n",
        "from sklearn.preprocessing import LabelEncoder\n",
        "\n",
        "# Visualisation\n",
        "import plotly.express as px\n",
        "from plotnine import *\n",
        "import pytimetk as tk\n",
        "import textwrap"
      ],
      "metadata": {
        "id": "Dldt8sarrEWb"
      },
      "execution_count": 2,
      "outputs": []
    },
    {
      "cell_type": "code",
      "source": [
        "# Load Data\n",
        "data = pd.read_csv('data/price_optimization.csv')"
      ],
      "metadata": {
        "id": "2EZE8PX1OsrA"
      },
      "execution_count": 113,
      "outputs": []
    },
    {
      "cell_type": "code",
      "source": [
        "data"
      ],
      "metadata": {
        "id": "cRZdzpXltYI6"
      },
      "execution_count": null,
      "outputs": []
    },
    {
      "cell_type": "code",
      "source": [
        "data.describe(include='all').T"
      ],
      "metadata": {
        "id": "W2W6MO9PtbuA"
      },
      "execution_count": null,
      "outputs": []
    },
    {
      "cell_type": "markdown",
      "source": [
        "### 2.0 Data Preparation"
      ],
      "metadata": {
        "id": "fRJkyZmKtjDE"
      }
    },
    {
      "cell_type": "code",
      "source": [
        "data['is_event'] = (data['event'] != \"No Promo\").astype(int).astype(str)"
      ],
      "metadata": {
        "id": "93Z0YjpKtipd"
      },
      "execution_count": null,
      "outputs": []
    },
    {
      "cell_type": "code",
      "source": [
        "data['revenue'] = data['price'] * data['quantity_sold']"
      ],
      "metadata": {
        "id": "BAt_i_Lstgp_"
      },
      "execution_count": null,
      "outputs": []
    },
    {
      "cell_type": "code",
      "source": [
        "data"
      ],
      "metadata": {
        "id": "5BQvagF8tgnp"
      },
      "execution_count": null,
      "outputs": []
    },
    {
      "cell_type": "markdown",
      "source": [
        "### EDA"
      ],
      "metadata": {
        "id": "jVh1pnbauFR1"
      }
    },
    {
      "cell_type": "markdown",
      "source": [
        "#### Trends: Price vs Quantity Sold"
      ],
      "metadata": {
        "id": "IMfrO8ofuQkv"
      }
    },
    {
      "cell_type": "code",
      "source": [
        "fig = px.scatter(\n",
        "    data,\n",
        "    x='price',\n",
        "    y='quantity_sold',\n",
        "    color = 'product',\n",
        "    opacity=0.6,\n",
        "    trendline = 'lowess',\n",
        "    trendline_color_override='blue',\n",
        "    template='none',\n",
        "    title='Product Sales: Price vs Quantity Analysis',\n",
        "    width=800,\n",
        "    height=600\n",
        ").update_traces(\n",
        "    marker=dict(size=7),\n",
        "    hoverlabel=dict(font=dict(size=10))\n",
        ").update_layout(\n",
        "    legend_title_text = 'Product',\n",
        "    title_font=dict(size=16),\n",
        "    legend_font=dict(size=10)\n",
        ").update_xaxes(\n",
        "    title_text='Price',\n",
        "    title_font=dict(size=10),\n",
        "    tickfont=dict(size=10)\n",
        ").update_yaxes(\n",
        "    title_text='Quantity Sold',\n",
        "    title_font=dict(size=10),\n",
        "    tickfont=dict(size=10)\n",
        ")"
      ],
      "metadata": {
        "id": "CO-mMlE0tgl6"
      },
      "execution_count": 3,
      "outputs": []
    },
    {
      "cell_type": "code",
      "source": [
        "fig"
      ],
      "metadata": {
        "id": "UK1LAFSDtgjM"
      },
      "execution_count": null,
      "outputs": []
    },
    {
      "cell_type": "markdown",
      "source": [
        "#### EVENT ANALYSIS (OUTLIERS)"
      ],
      "metadata": {
        "id": "f0xs9MBLxfYo"
      }
    },
    {
      "cell_type": "code",
      "source": [
        "# Scatter Plot\n",
        "fig = px.scatter(\n",
        "    data,\n",
        "    x='price',\n",
        "    y='quantity_sold',\n",
        "    color = 'event',\n",
        "    facet_col = 'product',\n",
        "    facet_col_wrap=2,\n",
        "    facet_col_spacing=0.1,\n",
        "    facet_row_spacing=0.1,\n",
        "    opacity=0.6,\n",
        "    trendline = 'lowess',\n",
        "    trendline_color_override='blue',\n",
        "    template='none',\n",
        "    title='Product Sales: Event Analysis',\n",
        "    width=800,\n",
        "    height=700\n",
        ").update_traces(\n",
        "    marker=dict(size=7),\n",
        "    hoverlabel=dict(font=dict(size=10))\n",
        ").update_layout(\n",
        "    legend_title_text = 'Product',\n",
        "    title_font=dict(size=16),\n",
        "    legend_font=dict(size=10)\n",
        ").update_xaxes(\n",
        "    title_text='Price',\n",
        "    title_font=dict(size=10),\n",
        "    tickfont=dict(size=10)\n",
        ").update_yaxes(\n",
        "    title_text='Quantity Sold',\n",
        "    title_font=dict(size=10),\n",
        "    tickfont=dict(size=10)\n",
        ")\n",
        "\n",
        "for annotation in fig['layout']['annotations']:\n",
        "  annotation['font'] = dict(size=10)\n",
        "\n",
        "fig.for_each_xaxis(lambda axis: axis.update(showticklabels=True))\n",
        "fig.for_each_yaxis(lambda axis: axis.update(showticklabels=True))"
      ],
      "metadata": {
        "id": "ACx38VYOtgg9"
      },
      "execution_count": null,
      "outputs": []
    },
    {
      "cell_type": "code",
      "source": [
        "fig"
      ],
      "metadata": {
        "id": "tRKwU7yVtgfN"
      },
      "execution_count": null,
      "outputs": []
    },
    {
      "cell_type": "markdown",
      "source": [
        "#### Modeling Event Impact"
      ],
      "metadata": {
        "id": "GPT9CglYz2D6"
      }
    },
    {
      "cell_type": "code",
      "source": [
        "df_encoded = data.copy()\n",
        "df_encoded = pd.get_dummies(df_encoded, columns=['event', 'product'], drop_first=False)"
      ],
      "metadata": {
        "id": "_zEKdE59tgcs"
      },
      "execution_count": null,
      "outputs": []
    },
    {
      "cell_type": "code",
      "source": [
        "colnames_event = df_encoded.columns[df_encoded.columms.str.startswith('event')].tolist()"
      ],
      "metadata": {
        "id": "0mUJMS0btga7"
      },
      "execution_count": null,
      "outputs": []
    },
    {
      "cell_type": "code",
      "source": [
        "df_encoded['colnames_event'] = df_encoded[colnames_event].astype(int)"
      ],
      "metadata": {
        "id": "dfGYpyiCtgYL"
      },
      "execution_count": null,
      "outputs": []
    },
    {
      "cell_type": "code",
      "source": [
        "colnames_product = df_encoded.columns[df_encoded.columns.str.startswith('product')].tolist()"
      ],
      "metadata": {
        "id": "9N5_ZUlvtgVL"
      },
      "execution_count": null,
      "outputs": []
    },
    {
      "cell_type": "code",
      "source": [
        "df_encoded[colnames_product] = df_encoded[colnames_product].astype(int)"
      ],
      "metadata": {
        "id": "zoA3pHTztgSi"
      },
      "execution_count": null,
      "outputs": []
    },
    {
      "cell_type": "code",
      "source": [
        "df_encoded"
      ],
      "metadata": {
        "id": "HC-KgNGO18I-"
      },
      "execution_count": null,
      "outputs": []
    },
    {
      "cell_type": "code",
      "source": [
        "X = df_encoded[['price'] + colnames_event + colnames_product]"
      ],
      "metadata": {
        "id": "CKG2qBfZ18HE"
      },
      "execution_count": null,
      "outputs": []
    },
    {
      "cell_type": "code",
      "source": [
        "X = sm.add_constant(X) # Adds a constant to the model (intercept)"
      ],
      "metadata": {
        "id": "WhYIz1se18EZ"
      },
      "execution_count": null,
      "outputs": []
    },
    {
      "cell_type": "code",
      "source": [
        "y = df_encoded['quantity_sold']"
      ],
      "metadata": {
        "id": "YGaR9W9718Bv"
      },
      "execution_count": null,
      "outputs": []
    },
    {
      "cell_type": "code",
      "source": [
        "model = sm.OLS(y, X).fit()"
      ],
      "metadata": {
        "id": "Ob_aISe017_9"
      },
      "execution_count": null,
      "outputs": []
    },
    {
      "cell_type": "code",
      "source": [
        "model.summary()"
      ],
      "metadata": {
        "id": "_c3k--PR2tuV"
      },
      "execution_count": null,
      "outputs": []
    },
    {
      "cell_type": "code",
      "source": [
        "model.params"
      ],
      "metadata": {
        "id": "YFtTvSwT2wGB"
      },
      "execution_count": null,
      "outputs": []
    },
    {
      "cell_type": "code",
      "source": [
        "params_df = pd.DataFrame(model.params).T"
      ],
      "metadata": {
        "id": "TykV6uQO21Pq"
      },
      "execution_count": null,
      "outputs": []
    },
    {
      "cell_type": "code",
      "source": [
        "params_df"
      ],
      "metadata": {
        "id": "bw9pN0S_21Nz"
      },
      "execution_count": null,
      "outputs": []
    },
    {
      "cell_type": "code",
      "source": [
        "np.log((params_df['event_Black Friday'] + params_df['const']) / (params_df['event_No Promo'] + params_df['const']))"
      ],
      "metadata": {
        "id": "H_8y3fQ321LZ"
      },
      "execution_count": null,
      "outputs": []
    },
    {
      "cell_type": "markdown",
      "source": [
        "#### General Price Optimization: GAMs"
      ],
      "metadata": {
        "id": "gDn2w_pp8RFe"
      }
    },
    {
      "cell_type": "markdown",
      "source": [
        "##### PROBLEM: Prices are not Linear\n",
        "##### SOLUTION: Use GAMs (Generalized Additive Models)\n",
        "##### NOTES:\n",
        "#####       - GAMs are like Linear Regression, but allow for non-linear relationships\n",
        "#####       - NOT as useful for incorporating events (see next section)\n",
        "\n",
        "\n"
      ],
      "metadata": {
        "id": "tSiZaFLaADQv"
      }
    },
    {
      "cell_type": "code",
      "source": [
        "# Keep the entire data as filtered\n",
        "data_filtered = data.query('event == \"No Promo\"')"
      ],
      "metadata": {
        "id": "VVAUHdvr21JU"
      },
      "execution_count": null,
      "outputs": []
    },
    {
      "cell_type": "code",
      "source": [
        "# Create a list of unique Products\n",
        "unique_products = data_filtered['product'].unique()"
      ],
      "metadata": {
        "id": "cPK_8XLA21Gy"
      },
      "execution_count": null,
      "outputs": []
    },
    {
      "cell_type": "code",
      "source": [
        "# Create an empty dataframe to store the concatenated results\n",
        "all_gam_results = pd.DataFrame()"
      ],
      "metadata": {
        "id": "emq2Wjn321EZ"
      },
      "execution_count": null,
      "outputs": []
    },
    {
      "cell_type": "code",
      "source": [
        "# Loop through each product\n",
        "for product in unique_products:\n",
        "  # Filter data for the current product\n",
        "  product_data = data_filtered[data_filtered['product'] == product]\n",
        "\n",
        "  X = product_data[['price']]\n",
        "  y = product_data['quantity_sold']\n",
        "\n",
        "  quantiles = [0.025, 0.5, 0.975]\n",
        "  gam_results = {}\n",
        "\n",
        "  # Fit the GAM model for the filtered data\n",
        "  for q in quantiles:\n",
        "    gam = ExpectileGAM(s(0), expectile=q)\n",
        "    gam.fit(X, y)\n",
        "    gam_results[f\"pred_{q}\"] = gam.predict(X)\n",
        "\n",
        "  # Store the results in a dataframe with index that matches the original data\n",
        "  predictions_gam = pd.DataFrame(gam_results).set_index(X.index)\n",
        "\n",
        "  # Concatenate the results column-wise with the original data\n",
        "  predictions_gam_df = pd.concat([all_gam_results, predictions_gam_df], axis =0)"
      ],
      "metadata": {
        "id": "kwoAUAzv21B6"
      },
      "execution_count": null,
      "outputs": []
    },
    {
      "cell_type": "code",
      "source": [
        "all_gam_results"
      ],
      "metadata": {
        "id": "rFgy3c79BbG2"
      },
      "execution_count": null,
      "outputs": []
    },
    {
      "cell_type": "code",
      "source": [
        "# Visualize the GAM Price Model Results\n",
        "ggplot(\n",
        "    data = all_gam_results,\n",
        "    mapping = aes(x='price', y='quantity_sold', color='product', group = 'product')\n",
        "  ) + \\\n",
        "  geom_ribbon(aes(ymax = 'pred_0.975', ymin = 'pred_0.025'), fill = '#d3d3d3', color='#FF000000', alpha=0.75, show_legend = False) + \\\n",
        "  geom_point(alpha=0.5) + \\\n",
        "  geom_line(aes(y='pred_0.5'), color = 'blue') + \\\n",
        "  facet_wrap('product', scales='free') + \\\n",
        "  labs(title = 'GAM Price vs Quantity Model') + \\\n",
        "  scale_color_manual(values = list(tk.palette_timetk().values())) + \\\n",
        "  tk.theme_timetk(width = 800, height = 600)"
      ],
      "metadata": {
        "id": "WCQFt4npBbEY"
      },
      "execution_count": null,
      "outputs": []
    },
    {
      "cell_type": "code",
      "source": [
        "# Optimiza Price for Predicted Daily Revenue\n",
        "\n",
        "for col in all_gam_results.columns:\n",
        "  if col.startswith('pred'):\n",
        "    all_gam_results['revenue_' + col] = all_gam_results['price']*all_gam_results[col]\n",
        "\n",
        "all_gam_results['revenue_actual'] = all_gam_results['price']*all_gam_results['quantity_sold']"
      ],
      "metadata": {
        "id": "mA-oYNH7BbCF"
      },
      "execution_count": null,
      "outputs": []
    },
    {
      "cell_type": "code",
      "source": [
        "all_gam_results"
      ],
      "metadata": {
        "id": "ixDENdhTBa_a"
      },
      "execution_count": null,
      "outputs": []
    },
    {
      "cell_type": "code",
      "source": [
        "best_50 = all_gam_results \\\n",
        "  .groupby('product') \\\n",
        "  .apply(lambda x: x[x['revenue_pred_0.5'] == x['revenue_pred_0.5'].max()].head(1)).reset_index(level=0, drop=True)"
      ],
      "metadata": {
        "id": "GelJI48bHB8H"
      },
      "execution_count": null,
      "outputs": []
    },
    {
      "cell_type": "code",
      "source": [
        "best_975 = all_gam_results \\\n",
        "  .groupby('product') \\\n",
        "  .apply(lambda x: x[x['revenue_pred_0.975'] == x['revenue_pred_0.975'].max()].head(1)).reset_index(level=0, drop=True)"
      ],
      "metadata": {
        "id": "FWzG9bOEHB5M"
      },
      "execution_count": null,
      "outputs": []
    },
    {
      "cell_type": "code",
      "source": [
        "best_025 = all_gam_results \\\n",
        "  .groupby('product') \\\n",
        "  .apply(lambda x: x[x['revenue_pred_0.025'] == x['revenue_pred_0.025'].max()].head(1)).reset_index(level=0, drop=True)"
      ],
      "metadata": {
        "id": "rDpLKNtXHB2_"
      },
      "execution_count": null,
      "outputs": []
    },
    {
      "cell_type": "code",
      "source": [
        "# Visualize the GAM Revenue Optimization Results\n",
        "\n",
        "(\n",
        "  ggplot(\n",
        "      data = all_gam_results,\n",
        "      mapping = aes(x='price', y='revenue_pred_0.5', color='product', group = 'product')\n",
        "  ) + \\\n",
        "    geom_ribbon(aes(ymax = 'revenue_pred_0.975', ymin = 'revenue_pred_0.025'), fill = '#d3d3d3', color='#FF000000', alpha=0.5, show_legend = False) + \\\n",
        "    # Uncomment to add actual revenue points\n",
        "    geom_point(aes(ymax = 'revenue_actual'),  color='#FF000000', alpha=0.5) + \\\n",
        "    geom_line(aes(y='revenue_pred_0.5'), alpha=0.5) + \\\n",
        "    geom_point(data=best_50, color='red') + \\\n",
        "    geom_point(data=best_975, mapping = aes(y='revenue_pred_0.975') , color='blue') + \\\n",
        "    geom_point(data=best_025, mapping = aes(y='revenue_pred_0.025') , color='blue') + \\\n",
        "    # geom_line(aes(y='pred_0.5'), color = 'blue') + \\\n",
        "    facet_wrap('product', scales='free') + \\\n",
        "    labs(\n",
        "        title = 'iPhone Case Price Optimization',\n",
        "        subtitle = 'Max Median Revenue (Red) vs 95% Max Confidence Interval (Blue)',\n",
        "        x='Price',\n",
        "        y='Predicted Revenue'\n",
        "        ) + \\\n",
        "    scale_color_manual(values = list(tk.palette_timetk().values())) + \\\n",
        "    tk.theme_timetk(width = 800, height = 600)\n",
        ")"
      ],
      "metadata": {
        "id": "ET5t6ecGHB0T"
      },
      "execution_count": null,
      "outputs": []
    },
    {
      "cell_type": "code",
      "source": [
        "best_50[['product', 'price', 'revenue_pred_0.5', 'revenue_pred_0.025', 'revenue_pred_0.975']]"
      ],
      "metadata": {
        "id": "yxpZKEoMHBwx"
      },
      "execution_count": null,
      "outputs": []
    },
    {
      "cell_type": "markdown",
      "source": [
        "# BUSINESS INSIGHTS"
      ],
      "metadata": {
        "id": "Dkdg3uhqe0Ut"
      }
    },
    {
      "cell_type": "markdown",
      "source": [
        "###### 1. The GAMs show that the optimal price is at the ends of the price range for: Premium Case | iPhone 15 Pro Max Standard Case | iPhone 15 Pro Max\n",
        "###### This suggests that the company should consider a price increase for these models\n",
        "\n",
        "###### 2. The GAMS show that the optimal price is in the middle of the price range for Premium Case | iPhone 15 Pro and Standard Case | iPhone 15 Pro\n",
        "###### This suggest that the company should consider a price that is close to the red dots for these products"
      ],
      "metadata": {
        "id": "lUVMCzf0e6ON"
      }
    },
    {
      "cell_type": "markdown",
      "source": [
        "# MODELING GAMS WITH EVENTS:\n",
        "\n",
        "## Essentially the same process as above, but we need to filter out the \"No Promo\" events\n",
        "\n",
        "## Gets a little tricky because of limited data points for each event"
      ],
      "metadata": {
        "id": "cszK6WkDgm8g"
      }
    },
    {
      "cell_type": "markdown",
      "source": [],
      "metadata": {
        "id": "qVx7qtF6gvLs"
      }
    },
    {
      "cell_type": "code",
      "source": [
        "#Keep the entire data as data_filtered\n",
        "data_filtered = data.query('event != \"No Promo\"')\n"
      ],
      "metadata": {
        "id": "mCDJ70cne36P"
      },
      "execution_count": null,
      "outputs": []
    },
    {
      "cell_type": "code",
      "source": [
        "# Create a list of unique products and events\n",
        "unique_products = data_filtered['product'].unique()\n",
        "events_only_gam_results = pd.DataFrame()\n"
      ],
      "metadata": {
        "id": "oQVea0qFhJ6U"
      },
      "execution_count": null,
      "outputs": []
    },
    {
      "cell_type": "code",
      "source": [
        "# Loop through each product\n",
        "for product in unique_products:\n",
        "\n",
        "  #Filter data for the current product and event\n",
        "  product_event_data = data_filtered[(data_filtered['product'] == product)]\n",
        "\n",
        "  if len(product_event_data) ==0:\n",
        "    continue # skip to next iteration if no data for current product-event combination\n",
        "\n",
        "  X = product_event_data[['price', 'event']]\n",
        "  y = product_event_data['quantity_sold']\n",
        "\n",
        "  # NEW: Encode the event columm\n",
        "  le = LabelEncoder()\n",
        "  X['event'] = le.fit_transform(X['event'])\n",
        "\n",
        "  #NEW: use f(1) to indicate that the event column is categorical\n",
        "  gam = GAM(l(0) + f(1))\n",
        "\n",
        "  gam.fit(X, y)\n",
        "  gam_results[f\"pred_0.5\"] = gam.predict(X)\n",
        "\n",
        "  # Store the results in a dataframe with index that matches the original data\n",
        "  predictions_gam = pd.DataFrame(gam_results).set_index(X.index)\n",
        "\n",
        "  # Concatenate the results column-wise with the original data\n",
        "  predictions_gam_df = pd.concat([product_event_data[['price', 'product', 'event', 'quantity_sold']], predictions_gam], axis =1)\n",
        "\n",
        "  # Concatenate results row-wise\n",
        "  events_only_gam_results = pd.concat([events_only_gam_results, predictions_gam_df], axis=0)\n"
      ],
      "metadata": {
        "id": "s1jW4eIuhAwl"
      },
      "execution_count": null,
      "outputs": []
    },
    {
      "cell_type": "code",
      "source": [
        "events_only_gam_results"
      ],
      "metadata": {
        "id": "s-JeuUvlhAo1"
      },
      "execution_count": null,
      "outputs": []
    },
    {
      "cell_type": "code",
      "source": [
        "# Visualize the GAM Price Model Results\n",
        "ggplot(\n",
        "    data = events_only_gam_results,\n",
        "    mapping = aes(x='price', y='quantity_sold', color='product', group = 'product')\n",
        "  ) + \\\n",
        "  geom_ribbon(aes(ymax = 'pred_0.975', ymin = 'pred_0.025'), fill = '#d3d3d3', color='#FF000000', alpha=0.75, show_legend = False) + \\\n",
        "  geom_point(alpha=0.5) + \\\n",
        "  geom_line(aes(y='pred_0.5'), color = 'blue') + \\\n",
        "  facet_wrap('product', scales='free') + \\\n",
        "  labs(title = 'GAM Price vs Quantity Model') + \\\n",
        "  scale_color_manual(values = list(tk.palette_timetk().values())) + \\\n",
        "  tk.theme_timetk(width = 800, height = 600)"
      ],
      "metadata": {
        "id": "Qx9NveOFr9FT"
      },
      "execution_count": null,
      "outputs": []
    },
    {
      "cell_type": "code",
      "source": [
        "# Optimiza Price for Predicted Daily Revenue\n",
        "\n",
        "for col in events_only_gam_results.columns:\n",
        "  if col.startswith('pred'):\n",
        "    events_only_gam_results['revenue_' + col] = events_only_gam_results['price']*all_gam_results[col]\n",
        "\n",
        "events_only_gam_results['revenue_actual'] = events_only_gam_results['price']*all_gam_results['quantity_sold']"
      ],
      "metadata": {
        "id": "mKMi2AeSs0M3"
      },
      "execution_count": null,
      "outputs": []
    },
    {
      "cell_type": "code",
      "source": [
        "events_only_gam_results"
      ],
      "metadata": {
        "id": "CmcrM2Ogs0M3"
      },
      "execution_count": null,
      "outputs": []
    },
    {
      "cell_type": "code",
      "source": [
        "best_50 = events_only_gam_results \\\n",
        "  .groupby('product') \\\n",
        "  .apply(lambda x: x[x['revenue_pred_0.5'] == x['revenue_pred_0.5'].max()].head(1)).reset_index(level=0, drop=True)"
      ],
      "metadata": {
        "id": "RAb55yies0M4"
      },
      "execution_count": null,
      "outputs": []
    },
    {
      "cell_type": "code",
      "source": [
        "best_975 = events_only_gam_results \\\n",
        "  .groupby('product') \\\n",
        "  .apply(lambda x: x[x['revenue_pred_0.975'] == x['revenue_pred_0.975'].max()].head(1)).reset_index(level=0, drop=True)"
      ],
      "metadata": {
        "id": "qEHl046ss0M4"
      },
      "execution_count": null,
      "outputs": []
    },
    {
      "cell_type": "code",
      "source": [
        "best_025 = events_only_gam_results \\\n",
        "  .groupby('product') \\\n",
        "  .apply(lambda x: x[x['revenue_pred_0.025'] == x['revenue_pred_0.025'].max()].head(1)).reset_index(level=0, drop=True)"
      ],
      "metadata": {
        "id": "Cqo7wtDvs0M4"
      },
      "execution_count": null,
      "outputs": []
    },
    {
      "cell_type": "code",
      "source": [
        "# Visualize the GAM Revenue Optimization Results\n",
        "\n",
        "(\n",
        "  ggplot(\n",
        "      data = events_only_gam_results,\n",
        "      mapping = aes(x='price', y='revenue_pred_0.5', color='product', group = 'product')\n",
        "  ) + \\\n",
        "    geom_ribbon(aes(ymax = 'revenue_pred_0.975', ymin = 'revenue_pred_0.025'), fill = '#d3d3d3', color='#FF000000', alpha=0.5, show_legend = False) + \\\n",
        "    # Uncomment to add actual revenue points\n",
        "    geom_point(aes(ymax = 'revenue_actual'),  color='#FF000000', alpha=0.5) + \\\n",
        "    geom_line(aes(y='revenue_pred_0.5'), alpha=0.5) + \\\n",
        "    geom_point(data=best_50, color='red') + \\\n",
        "    geom_point(data=best_975, mapping = aes(y='revenue_pred_0.975') , color='blue') + \\\n",
        "    geom_point(data=best_025, mapping = aes(y='revenue_pred_0.025') , color='blue') + \\\n",
        "    # geom_line(aes(y='pred_0.5'), color = 'blue') + \\\n",
        "    facet_wrap('product', scales='free') + \\\n",
        "    labs(\n",
        "        title = 'iPhone Case Price Optimization',\n",
        "        subtitle = 'Max Median Revenue (Red) vs 95% Max Confidence Interval (Blue)',\n",
        "        x='Price',\n",
        "        y='Predicted Revenue'\n",
        "        ) + \\\n",
        "    scale_color_manual(values = list(tk.palette_timetk().values())) + \\\n",
        "    tk.theme_timetk(width = 800, height = 600)\n",
        ")"
      ],
      "metadata": {
        "id": "eqXAe7xms0M4"
      },
      "execution_count": null,
      "outputs": []
    },
    {
      "cell_type": "code",
      "source": [
        "best_50[['product', 'price', 'revenue_pred_0.5', 'revenue_pred_0.025', 'revenue_pred_0.975']]"
      ],
      "metadata": {
        "id": "KAvZ-nris0M4"
      },
      "execution_count": null,
      "outputs": []
    },
    {
      "cell_type": "code",
      "source": [],
      "metadata": {
        "id": "hGLc-LJYr9DK"
      },
      "execution_count": null,
      "outputs": []
    },
    {
      "cell_type": "code",
      "source": [],
      "metadata": {
        "id": "9kp_rRVar9Ap"
      },
      "execution_count": null,
      "outputs": []
    },
    {
      "cell_type": "code",
      "source": [],
      "metadata": {
        "id": "-Q9glE8Yr8_A"
      },
      "execution_count": null,
      "outputs": []
    },
    {
      "cell_type": "code",
      "source": [],
      "metadata": {
        "id": "OQUk_bfGr88f"
      },
      "execution_count": null,
      "outputs": []
    }
  ]
}